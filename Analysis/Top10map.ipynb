{
 "cells": [
  {
   "cell_type": "code",
   "execution_count": 1,
   "id": "c28f5393-1fc2-4004-853d-d68c2d5f992f",
   "metadata": {},
   "outputs": [],
   "source": [
    "import pandas as pd\n",
    "import numpy as np\n",
    "pd.set_option('display.max_columns', None)\n",
    "import folium\n",
    "from folium import plugins\n",
    "from folium.features import DivIcon"
   ]
  },
  {
   "cell_type": "code",
   "execution_count": 2,
   "id": "a23a4781-feb3-4135-a561-21e82d2a96d7",
   "metadata": {},
   "outputs": [],
   "source": [
    "# adding Black library\n",
    "%load_ext lab_black"
   ]
  },
  {
   "cell_type": "code",
   "execution_count": 3,
   "id": "bf62fdf2-ab01-4381-8711-0513cbe6bd5d",
   "metadata": {},
   "outputs": [],
   "source": [
    "data = pd.read_csv(\"data_cleaned.csv\")"
   ]
  },
  {
   "cell_type": "code",
   "execution_count": 4,
   "id": "56a651d0-54a3-47e2-a157-65c5a7e436dd",
   "metadata": {},
   "outputs": [],
   "source": [
    "# We create a new column for weighted_score, the number of reviews play a significatnt role\n",
    "\n",
    "data[\"weighted_score\"] = data[\"number_of_reviews\"] * data[\"review_scores_rating\"]\n",
    "\n",
    "# Then we create the normalized score\n",
    "data[\"normalized_weighted_score\"] = (\n",
    "    (data[\"weighted_score\"] - data[\"weighted_score\"].min())\n",
    "    / (data[\"weighted_score\"].max() - data[\"weighted_score\"].min())\n",
    "    * 100\n",
    ")"
   ]
  },
  {
   "cell_type": "code",
   "execution_count": 5,
   "id": "85c65e01-5dd2-4c5b-bc84-9cf08edab1bc",
   "metadata": {},
   "outputs": [],
   "source": [
    "data.sort_values(\"normalized_weighted_score\", ascending=False, inplace=True)"
   ]
  },
  {
   "cell_type": "code",
   "execution_count": 6,
   "id": "a089fb6a-66c3-40c2-afa8-4aae4f5996ef",
   "metadata": {},
   "outputs": [],
   "source": [
    "top10 = data.head(10)"
   ]
  },
  {
   "cell_type": "code",
   "execution_count": 7,
   "id": "c8df3694-5405-4a3c-b51c-c6981e4acb1c",
   "metadata": {
    "scrolled": true
   },
   "outputs": [
    {
     "data": {
      "text/html": [
       "<div>\n",
       "<style scoped>\n",
       "    .dataframe tbody tr th:only-of-type {\n",
       "        vertical-align: middle;\n",
       "    }\n",
       "\n",
       "    .dataframe tbody tr th {\n",
       "        vertical-align: top;\n",
       "    }\n",
       "\n",
       "    .dataframe thead th {\n",
       "        text-align: right;\n",
       "    }\n",
       "</style>\n",
       "<table border=\"1\" class=\"dataframe\">\n",
       "  <thead>\n",
       "    <tr style=\"text-align: right;\">\n",
       "      <th></th>\n",
       "      <th>id</th>\n",
       "      <th>listing_url</th>\n",
       "      <th>name</th>\n",
       "      <th>picture_url</th>\n",
       "      <th>host_id</th>\n",
       "      <th>host_name</th>\n",
       "      <th>neighbourhood_group_cleansed</th>\n",
       "      <th>latitude</th>\n",
       "      <th>longitude</th>\n",
       "      <th>room_type</th>\n",
       "      <th>accommodates</th>\n",
       "      <th>amenities</th>\n",
       "      <th>price</th>\n",
       "      <th>number_of_reviews</th>\n",
       "      <th>review_scores_rating</th>\n",
       "      <th>weighted_score</th>\n",
       "      <th>normalized_weighted_score</th>\n",
       "    </tr>\n",
       "  </thead>\n",
       "  <tbody>\n",
       "    <tr>\n",
       "      <th>960</th>\n",
       "      <td>3908928</td>\n",
       "      <td>https://www.airbnb.com/rooms/3908928</td>\n",
       "      <td>charming apartment</td>\n",
       "      <td>https://a0.muscache.com/pictures/b65988aa-a73d...</td>\n",
       "      <td>8321213</td>\n",
       "      <td>Paula</td>\n",
       "      <td>Centro</td>\n",
       "      <td>40.41235</td>\n",
       "      <td>-3.69556</td>\n",
       "      <td>Entire home/apt</td>\n",
       "      <td>3</td>\n",
       "      <td>Paid parking off premises, Heating, Freezer, C...</td>\n",
       "      <td>63.0</td>\n",
       "      <td>706</td>\n",
       "      <td>95.0</td>\n",
       "      <td>67070.0</td>\n",
       "      <td>100.000000</td>\n",
       "    </tr>\n",
       "    <tr>\n",
       "      <th>841</th>\n",
       "      <td>3397465</td>\n",
       "      <td>https://www.airbnb.com/rooms/3397465</td>\n",
       "      <td>Apartamento junto Gran Vía</td>\n",
       "      <td>https://a0.muscache.com/pictures/45263405/8ac7...</td>\n",
       "      <td>8130428</td>\n",
       "      <td>Carmelo</td>\n",
       "      <td>Centro</td>\n",
       "      <td>40.42162</td>\n",
       "      <td>-3.70186</td>\n",
       "      <td>Entire home/apt</td>\n",
       "      <td>2</td>\n",
       "      <td>Kitchen, Dedicated workspace, Shampoo, Essenti...</td>\n",
       "      <td>61.0</td>\n",
       "      <td>599</td>\n",
       "      <td>97.0</td>\n",
       "      <td>58103.0</td>\n",
       "      <td>86.626398</td>\n",
       "    </tr>\n",
       "    <tr>\n",
       "      <th>25</th>\n",
       "      <td>93100</td>\n",
       "      <td>https://www.airbnb.com/rooms/93100</td>\n",
       "      <td>*** MALASAÑA B&amp;B ***</td>\n",
       "      <td>https://a0.muscache.com/pictures/756652/35f49b...</td>\n",
       "      <td>499977</td>\n",
       "      <td>Charo</td>\n",
       "      <td>Centro</td>\n",
       "      <td>40.42378</td>\n",
       "      <td>-3.70248</td>\n",
       "      <td>Private room</td>\n",
       "      <td>3</td>\n",
       "      <td>Dedicated workspace, Backyard, Hangers, Host g...</td>\n",
       "      <td>45.0</td>\n",
       "      <td>643</td>\n",
       "      <td>89.0</td>\n",
       "      <td>57227.0</td>\n",
       "      <td>85.319911</td>\n",
       "    </tr>\n",
       "    <tr>\n",
       "      <th>4111</th>\n",
       "      <td>16889632</td>\n",
       "      <td>https://www.airbnb.com/rooms/16889632</td>\n",
       "      <td>Habitación, baño privado cerca Aeropuerto y IF...</td>\n",
       "      <td>https://a0.muscache.com/pictures/bbf2b477-00e9...</td>\n",
       "      <td>112661737</td>\n",
       "      <td>Elsa</td>\n",
       "      <td>Barajas</td>\n",
       "      <td>40.46062</td>\n",
       "      <td>-3.58606</td>\n",
       "      <td>Private room</td>\n",
       "      <td>2</td>\n",
       "      <td>Dedicated workspace, Hangers, Host greets you,...</td>\n",
       "      <td>33.0</td>\n",
       "      <td>574</td>\n",
       "      <td>98.0</td>\n",
       "      <td>56252.0</td>\n",
       "      <td>83.865772</td>\n",
       "    </tr>\n",
       "    <tr>\n",
       "      <th>761</th>\n",
       "      <td>2964048</td>\n",
       "      <td>https://www.airbnb.com/rooms/2964048</td>\n",
       "      <td>Stunning Apartment in Sol 2</td>\n",
       "      <td>https://a0.muscache.com/pictures/05ec2228-c99b...</td>\n",
       "      <td>9324929</td>\n",
       "      <td>Israel</td>\n",
       "      <td>Centro</td>\n",
       "      <td>40.41559</td>\n",
       "      <td>-3.70314</td>\n",
       "      <td>Entire home/apt</td>\n",
       "      <td>6</td>\n",
       "      <td>Dedicated workspace, Hangers, Hair dryer, Refr...</td>\n",
       "      <td>51.0</td>\n",
       "      <td>579</td>\n",
       "      <td>97.0</td>\n",
       "      <td>56163.0</td>\n",
       "      <td>83.733035</td>\n",
       "    </tr>\n",
       "    <tr>\n",
       "      <th>796</th>\n",
       "      <td>3146468</td>\n",
       "      <td>https://www.airbnb.com/rooms/3146468</td>\n",
       "      <td>Great room in the center of Madrid</td>\n",
       "      <td>https://a0.muscache.com/pictures/3d22c873-7828...</td>\n",
       "      <td>15328893</td>\n",
       "      <td>Alessandra</td>\n",
       "      <td>Centro</td>\n",
       "      <td>40.42074</td>\n",
       "      <td>-3.70070</td>\n",
       "      <td>Private room</td>\n",
       "      <td>2</td>\n",
       "      <td>Kitchen, Washer, Air conditioning, Essentials,...</td>\n",
       "      <td>26.0</td>\n",
       "      <td>570</td>\n",
       "      <td>96.0</td>\n",
       "      <td>54720.0</td>\n",
       "      <td>81.580910</td>\n",
       "    </tr>\n",
       "    <tr>\n",
       "      <th>118</th>\n",
       "      <td>420039</td>\n",
       "      <td>https://www.airbnb.com/rooms/420039</td>\n",
       "      <td>Bonito estudio en pleno centro</td>\n",
       "      <td>https://a0.muscache.com/pictures/9c5e4e58-9dd0...</td>\n",
       "      <td>9934732</td>\n",
       "      <td>Fernando Javier</td>\n",
       "      <td>Centro</td>\n",
       "      <td>40.42738</td>\n",
       "      <td>-3.70635</td>\n",
       "      <td>Entire home/apt</td>\n",
       "      <td>2</td>\n",
       "      <td>Hangers, Host greets you, Hair dryer, Refriger...</td>\n",
       "      <td>57.0</td>\n",
       "      <td>648</td>\n",
       "      <td>84.0</td>\n",
       "      <td>54432.0</td>\n",
       "      <td>81.151380</td>\n",
       "    </tr>\n",
       "    <tr>\n",
       "      <th>2911</th>\n",
       "      <td>13154435</td>\n",
       "      <td>https://www.airbnb.com/rooms/13154435</td>\n",
       "      <td>Habitación doble + baño privado Barajas aeropu...</td>\n",
       "      <td>https://a0.muscache.com/pictures/2f79b6f2-b314...</td>\n",
       "      <td>14071623</td>\n",
       "      <td>Monica</td>\n",
       "      <td>Barajas</td>\n",
       "      <td>40.45609</td>\n",
       "      <td>-3.58501</td>\n",
       "      <td>Private room</td>\n",
       "      <td>2</td>\n",
       "      <td>Elevator, Heating, Host greets you, Private en...</td>\n",
       "      <td>37.0</td>\n",
       "      <td>557</td>\n",
       "      <td>97.0</td>\n",
       "      <td>54029.0</td>\n",
       "      <td>80.550336</td>\n",
       "    </tr>\n",
       "    <tr>\n",
       "      <th>231</th>\n",
       "      <td>709208</td>\n",
       "      <td>https://www.airbnb.com/rooms/709208</td>\n",
       "      <td>Apartment in the heart of Madrid</td>\n",
       "      <td>https://a0.muscache.com/pictures/9864794/1acb0...</td>\n",
       "      <td>3648882</td>\n",
       "      <td>Luz</td>\n",
       "      <td>Centro</td>\n",
       "      <td>40.41697</td>\n",
       "      <td>-3.70732</td>\n",
       "      <td>Entire home/apt</td>\n",
       "      <td>4</td>\n",
       "      <td>Breakfast, Dishwasher, Bed linens, Refrigerato...</td>\n",
       "      <td>69.0</td>\n",
       "      <td>553</td>\n",
       "      <td>97.0</td>\n",
       "      <td>53641.0</td>\n",
       "      <td>79.971663</td>\n",
       "    </tr>\n",
       "    <tr>\n",
       "      <th>759</th>\n",
       "      <td>2963086</td>\n",
       "      <td>https://www.airbnb.com/rooms/2963086</td>\n",
       "      <td>Stunning Apartment in Sol</td>\n",
       "      <td>https://a0.muscache.com/pictures/fcfaf927-fc2e...</td>\n",
       "      <td>9324929</td>\n",
       "      <td>Israel</td>\n",
       "      <td>Centro</td>\n",
       "      <td>40.41559</td>\n",
       "      <td>-3.70314</td>\n",
       "      <td>Entire home/apt</td>\n",
       "      <td>4</td>\n",
       "      <td>Hot water, Microwave, Smart lock, Wifi, Carbon...</td>\n",
       "      <td>57.0</td>\n",
       "      <td>549</td>\n",
       "      <td>97.0</td>\n",
       "      <td>53253.0</td>\n",
       "      <td>79.392990</td>\n",
       "    </tr>\n",
       "  </tbody>\n",
       "</table>\n",
       "</div>"
      ],
      "text/plain": [
       "            id                            listing_url  \\\n",
       "960    3908928   https://www.airbnb.com/rooms/3908928   \n",
       "841    3397465   https://www.airbnb.com/rooms/3397465   \n",
       "25       93100     https://www.airbnb.com/rooms/93100   \n",
       "4111  16889632  https://www.airbnb.com/rooms/16889632   \n",
       "761    2964048   https://www.airbnb.com/rooms/2964048   \n",
       "796    3146468   https://www.airbnb.com/rooms/3146468   \n",
       "118     420039    https://www.airbnb.com/rooms/420039   \n",
       "2911  13154435  https://www.airbnb.com/rooms/13154435   \n",
       "231     709208    https://www.airbnb.com/rooms/709208   \n",
       "759    2963086   https://www.airbnb.com/rooms/2963086   \n",
       "\n",
       "                                                   name  \\\n",
       "960                                  charming apartment   \n",
       "841                          Apartamento junto Gran Vía   \n",
       "25                                 *** MALASAÑA B&B ***   \n",
       "4111  Habitación, baño privado cerca Aeropuerto y IF...   \n",
       "761                         Stunning Apartment in Sol 2   \n",
       "796                  Great room in the center of Madrid   \n",
       "118                      Bonito estudio en pleno centro   \n",
       "2911  Habitación doble + baño privado Barajas aeropu...   \n",
       "231                    Apartment in the heart of Madrid   \n",
       "759                           Stunning Apartment in Sol   \n",
       "\n",
       "                                            picture_url    host_id  \\\n",
       "960   https://a0.muscache.com/pictures/b65988aa-a73d...    8321213   \n",
       "841   https://a0.muscache.com/pictures/45263405/8ac7...    8130428   \n",
       "25    https://a0.muscache.com/pictures/756652/35f49b...     499977   \n",
       "4111  https://a0.muscache.com/pictures/bbf2b477-00e9...  112661737   \n",
       "761   https://a0.muscache.com/pictures/05ec2228-c99b...    9324929   \n",
       "796   https://a0.muscache.com/pictures/3d22c873-7828...   15328893   \n",
       "118   https://a0.muscache.com/pictures/9c5e4e58-9dd0...    9934732   \n",
       "2911  https://a0.muscache.com/pictures/2f79b6f2-b314...   14071623   \n",
       "231   https://a0.muscache.com/pictures/9864794/1acb0...    3648882   \n",
       "759   https://a0.muscache.com/pictures/fcfaf927-fc2e...    9324929   \n",
       "\n",
       "            host_name neighbourhood_group_cleansed  latitude  longitude  \\\n",
       "960             Paula                       Centro  40.41235   -3.69556   \n",
       "841           Carmelo                       Centro  40.42162   -3.70186   \n",
       "25              Charo                       Centro  40.42378   -3.70248   \n",
       "4111             Elsa                      Barajas  40.46062   -3.58606   \n",
       "761            Israel                       Centro  40.41559   -3.70314   \n",
       "796        Alessandra                       Centro  40.42074   -3.70070   \n",
       "118   Fernando Javier                       Centro  40.42738   -3.70635   \n",
       "2911           Monica                      Barajas  40.45609   -3.58501   \n",
       "231               Luz                       Centro  40.41697   -3.70732   \n",
       "759            Israel                       Centro  40.41559   -3.70314   \n",
       "\n",
       "            room_type  accommodates  \\\n",
       "960   Entire home/apt             3   \n",
       "841   Entire home/apt             2   \n",
       "25       Private room             3   \n",
       "4111     Private room             2   \n",
       "761   Entire home/apt             6   \n",
       "796      Private room             2   \n",
       "118   Entire home/apt             2   \n",
       "2911     Private room             2   \n",
       "231   Entire home/apt             4   \n",
       "759   Entire home/apt             4   \n",
       "\n",
       "                                              amenities  price  \\\n",
       "960   Paid parking off premises, Heating, Freezer, C...   63.0   \n",
       "841   Kitchen, Dedicated workspace, Shampoo, Essenti...   61.0   \n",
       "25    Dedicated workspace, Backyard, Hangers, Host g...   45.0   \n",
       "4111  Dedicated workspace, Hangers, Host greets you,...   33.0   \n",
       "761   Dedicated workspace, Hangers, Hair dryer, Refr...   51.0   \n",
       "796   Kitchen, Washer, Air conditioning, Essentials,...   26.0   \n",
       "118   Hangers, Host greets you, Hair dryer, Refriger...   57.0   \n",
       "2911  Elevator, Heating, Host greets you, Private en...   37.0   \n",
       "231   Breakfast, Dishwasher, Bed linens, Refrigerato...   69.0   \n",
       "759   Hot water, Microwave, Smart lock, Wifi, Carbon...   57.0   \n",
       "\n",
       "      number_of_reviews  review_scores_rating  weighted_score  \\\n",
       "960                 706                  95.0         67070.0   \n",
       "841                 599                  97.0         58103.0   \n",
       "25                  643                  89.0         57227.0   \n",
       "4111                574                  98.0         56252.0   \n",
       "761                 579                  97.0         56163.0   \n",
       "796                 570                  96.0         54720.0   \n",
       "118                 648                  84.0         54432.0   \n",
       "2911                557                  97.0         54029.0   \n",
       "231                 553                  97.0         53641.0   \n",
       "759                 549                  97.0         53253.0   \n",
       "\n",
       "      normalized_weighted_score  \n",
       "960                  100.000000  \n",
       "841                   86.626398  \n",
       "25                    85.319911  \n",
       "4111                  83.865772  \n",
       "761                   83.733035  \n",
       "796                   81.580910  \n",
       "118                   81.151380  \n",
       "2911                  80.550336  \n",
       "231                   79.971663  \n",
       "759                   79.392990  "
      ]
     },
     "execution_count": 7,
     "metadata": {},
     "output_type": "execute_result"
    }
   ],
   "source": [
    "top10.head(10)"
   ]
  },
  {
   "cell_type": "markdown",
   "id": "6c7ce6dd",
   "metadata": {},
   "source": [
    "# Function for markers with number circles"
   ]
  },
  {
   "cell_type": "code",
   "execution_count": 8,
   "id": "fba7a525-526e-49fc-a2ae-77ab069f1cd6",
   "metadata": {},
   "outputs": [],
   "source": [
    "def number_DivIcon(color, number):\n",
    "    \"\"\" Create a 'numbered' icon\n",
    "    \n",
    "    \"\"\"\n",
    "    icon = DivIcon(\n",
    "        icon_size=(150, 36),\n",
    "        icon_anchor=(14, 40),\n",
    "        html=\"\"\"<span class=\"fa-stack \" style=\"font-size: 12pt\" >>\n",
    "                    <!-- The icon that will wrap the number -->\n",
    "                    <span class=\"fa fa-circle-o fa-stack-2x\" style=\"color : {:s}\"></span>\n",
    "                    <!-- a strong element with the custom content, in this case a number -->\n",
    "                    <strong class=\"fa-stack-1x\">\n",
    "                         {:02d}  \n",
    "                    </strong>\n",
    "                </span>\"\"\".format(\n",
    "            color, number\n",
    "        ),\n",
    "    )\n",
    "    return icon\n",
    "\n",
    "\n",
    "col_hex = [\n",
    "    \"#440154\",\n",
    "    \"#481a6c\",\n",
    "    \"#472f7d\",\n",
    "    \"#414487\",\n",
    "    \"#39568c\",\n",
    "    \"#31688e\",\n",
    "    \"#2a788e\",\n",
    "    \"#23888e\",\n",
    "    \"#1f988b\",\n",
    "    \"#22a884\",\n",
    "    \"#35b779\",\n",
    "    \"#54c568\",\n",
    "    \"#7ad151\",\n",
    "    \"#a5db36\",\n",
    "    \"#d2e21b\",\n",
    "]"
   ]
  },
  {
   "cell_type": "code",
   "execution_count": 9,
   "id": "96dbb17d-9e1a-4dd6-b549-375e5f4a9176",
   "metadata": {},
   "outputs": [],
   "source": [
    "num = 0"
   ]
  },
  {
   "cell_type": "code",
   "execution_count": 10,
   "id": "5c9036af-a449-45db-85a5-a0f1744dd051",
   "metadata": {},
   "outputs": [],
   "source": [
    "m = folium.Map(location=[40.416775, -3.703790], zoom_start=13, tiles=\"cartodb positron\")"
   ]
  },
  {
   "cell_type": "code",
   "execution_count": 11,
   "id": "7e4c7ac1-bbe7-49dd-9929-0157457d7634",
   "metadata": {},
   "outputs": [
    {
     "data": {
      "text/plain": [
       "<folium.map.Marker at 0x22461b4e7f0>"
      ]
     },
     "execution_count": 11,
     "metadata": {},
     "output_type": "execute_result"
    }
   ],
   "source": [
    "folium.Marker(\n",
    "    location=[40.42162, -3.69556],\n",
    "    popup=\"<a href=https://www.airbnb.com/rooms/3908928>Charming Apartment</a>\",\n",
    "    icon=folium.Icon(color=\"white\", icon_color=\"white\"),\n",
    "    markerColor=col_hex[num],\n",
    "    tooltip=\"rating=4.77\",\n",
    ").add_to(m)\n",
    "folium.Marker(\n",
    "    location=[40.42162, -3.69556],\n",
    "    popup=\"<a href=https://www.airbnb.com/rooms/3908928>Charming Apartment</a>\",\n",
    "    icon=number_DivIcon(col_hex[num], num + 1),\n",
    "    tooltip=\"rating=4.77\",\n",
    ").add_to(m)"
   ]
  },
  {
   "cell_type": "code",
   "execution_count": 12,
   "id": "959d7e2d-2f62-4882-ba63-63cd9e80c523",
   "metadata": {},
   "outputs": [
    {
     "data": {
      "text/plain": [
       "<folium.map.Marker at 0x22461b40dc0>"
      ]
     },
     "execution_count": 12,
     "metadata": {},
     "output_type": "execute_result"
    }
   ],
   "source": [
    "folium.Marker(\n",
    "    location=[40.41235, -3.70248],\n",
    "    popup=\"<a href=https://www.airbnb.com/rooms/3397465>Apartment near Gran Vía</a>\",\n",
    "    icon=folium.Icon(color=\"white\", icon_color=\"white\"),\n",
    "    markerColor=col_hex[num],\n",
    "    tooltip=\"rating=4,87\",\n",
    ").add_to(m)\n",
    "folium.Marker(\n",
    "    location=[40.41235, -3.70248],\n",
    "    popup=\"<a href=https://www.airbnb.com/rooms/3908928>Apartment near Gran Vía</a>\",\n",
    "    icon=number_DivIcon(col_hex[num], num + 2),\n",
    "    tooltip=\"rating=4,87\",\n",
    ").add_to(m)"
   ]
  },
  {
   "cell_type": "code",
   "execution_count": 13,
   "id": "cefef8a9-0f9b-4aee-aad4-e26fd2df1300",
   "metadata": {},
   "outputs": [
    {
     "data": {
      "text/plain": [
       "<folium.map.Marker at 0x22461af9ee0>"
      ]
     },
     "execution_count": 13,
     "metadata": {},
     "output_type": "execute_result"
    }
   ],
   "source": [
    "folium.Marker(\n",
    "    location=[40.42378, -3.70186],\n",
    "    popup=\"<a href=https://www.airbnb.com/rooms/93100>MALASAÑA B&B</a>\",\n",
    "    icon=folium.Icon(color=\"white\", icon_color=\"white\"),\n",
    "    markerColor=col_hex[num],\n",
    "    tooltip=\"rating=4,48\",\n",
    ").add_to(m)\n",
    "folium.Marker(\n",
    "    location=[40.42378, -3.70186],\n",
    "    popup=\"<a href=https://www.airbnb.com/rooms/93100>MALASAÑA B&B</a>\",\n",
    "    icon=number_DivIcon(col_hex[num], num + 3),\n",
    "    tooltip=\"rating=4,48\",\n",
    ").add_to(m)"
   ]
  },
  {
   "cell_type": "code",
   "execution_count": 14,
   "id": "63952f9c-7b05-4fa7-a74a-c937eec462c9",
   "metadata": {},
   "outputs": [
    {
     "data": {
      "text/plain": [
       "<folium.map.Marker at 0x22461a29040>"
      ]
     },
     "execution_count": 14,
     "metadata": {},
     "output_type": "execute_result"
    }
   ],
   "source": [
    "folium.Marker(\n",
    "    location=[40.46062, -3.58606],\n",
    "    popup=\"<a href=https://www.airbnb.com/rooms/16889632>Room - Private Bathroom Near Airport and IFEMA</a>\",\n",
    "    icon=folium.Icon(color=\"white\", icon_color=\"white\"),\n",
    "    markerColor=col_hex[num],\n",
    "    tooltip=\"rating=4,92\",\n",
    ").add_to(m)\n",
    "folium.Marker(\n",
    "    location=[40.46062, -3.58606],\n",
    "    popup=\"<a href=https://www.airbnb.com/rooms/16889632>Room - Private Bathroom Near Airport and IFEMA</a>\",\n",
    "    icon=number_DivIcon(col_hex[num], num + 4),\n",
    "    tooltip=\"rating=4,92\",\n",
    ").add_to(m)"
   ]
  },
  {
   "cell_type": "code",
   "execution_count": 15,
   "id": "04dfda21-4cd5-486f-aaa6-41475ebbbaed",
   "metadata": {},
   "outputs": [
    {
     "data": {
      "text/plain": [
       "<folium.map.Marker at 0x22461a2b820>"
      ]
     },
     "execution_count": 15,
     "metadata": {},
     "output_type": "execute_result"
    }
   ],
   "source": [
    "folium.Marker(\n",
    "    location=[40.41659, -3.70324],\n",
    "    popup=\"<a href=https://www.airbnb.com/rooms/2964048>Stunning Apartment in Sol 2</a>\",\n",
    "    icon=folium.Icon(color=\"white\", icon_color=\"white\"),\n",
    "    markerColor=col_hex[num],\n",
    "    tooltip=\"rating=4,87\",\n",
    ").add_to(m)\n",
    "folium.Marker(\n",
    "    location=[40.41659, -3.70324],\n",
    "    popup=\"<a href=https://www.airbnb.com/rooms/2964048>Stunning Apartment in Sol 2</a>\",\n",
    "    icon=number_DivIcon(col_hex[num], num + 5),\n",
    "    tooltip=\"rating=4,87\",\n",
    ").add_to(m)"
   ]
  },
  {
   "cell_type": "code",
   "execution_count": 16,
   "id": "74da261e-8b84-46de-8b0b-10ccf0bd2809",
   "metadata": {},
   "outputs": [
    {
     "data": {
      "text/plain": [
       "<folium.map.Marker at 0x22461af0910>"
      ]
     },
     "execution_count": 16,
     "metadata": {},
     "output_type": "execute_result"
    }
   ],
   "source": [
    "folium.Marker(\n",
    "    location=[40.42074, -3.70070],\n",
    "    popup=\"<a href=https://www.airbnb.com/rooms/3146468>Great room in the center of Madrid</a>\",\n",
    "    icon=folium.Icon(color=\"white\", icon_color=\"white\"),\n",
    "    markerColor=col_hex[num],\n",
    "    tooltip=\"rating=4,82\",\n",
    ").add_to(m)\n",
    "folium.Marker(\n",
    "    location=[40.42074, -3.70070],\n",
    "    popup=\"<a href=https://www.airbnb.com/rooms/3146468>Great room in the center of Madrid</a>\",\n",
    "    icon=number_DivIcon(col_hex[num], num + 6),\n",
    "    tooltip=\"rating=4,82\",\n",
    ").add_to(m)"
   ]
  },
  {
   "cell_type": "code",
   "execution_count": 17,
   "id": "22d84688-a13c-4e29-855f-6bec576ffb93",
   "metadata": {},
   "outputs": [
    {
     "data": {
      "text/plain": [
       "<folium.map.Marker at 0x22461a682e0>"
      ]
     },
     "execution_count": 17,
     "metadata": {},
     "output_type": "execute_result"
    }
   ],
   "source": [
    "folium.Marker(\n",
    "    location=[40.42738, -3.70635],\n",
    "    popup=\"<a href=https://www.airbnb.com/rooms/420039>Beautiful studio in the middle of downtown</a>\",\n",
    "    icon=folium.Icon(color=\"white\", icon_color=\"white\"),\n",
    "    markerColor=col_hex[num],\n",
    "    tooltip=\"rating=4,21\",\n",
    ").add_to(m)\n",
    "folium.Marker(\n",
    "    location=[40.42738, -3.70635],\n",
    "    popup=\"<a href=https://www.airbnb.com/rooms/420039>Beautiful studio in the middle of downtown</a>\",\n",
    "    icon=number_DivIcon(col_hex[num], num + 7),\n",
    "    tooltip=\"rating=4,21\",\n",
    ").add_to(m)"
   ]
  },
  {
   "cell_type": "code",
   "execution_count": 18,
   "id": "27b4bc1b-b44c-4a0c-8773-25ff6c622ec0",
   "metadata": {},
   "outputs": [
    {
     "data": {
      "text/plain": [
       "<folium.map.Marker at 0x22461a1c5e0>"
      ]
     },
     "execution_count": 18,
     "metadata": {},
     "output_type": "execute_result"
    }
   ],
   "source": [
    "folium.Marker(\n",
    "    location=[40.45609, -3.58501],\n",
    "    popup=\"<a href=https://www.airbnb.com/rooms/31689214>Newly renovated. Newly renovated. Wanda, airport</a>\",\n",
    "    icon=folium.Icon(color=\"white\", icon_color=\"white\"),\n",
    "    markerColor=col_hex[num],\n",
    "    tooltip=\"rating=4,84\",\n",
    ").add_to(m)\n",
    "folium.Marker(\n",
    "    location=[40.45609, -3.58501],\n",
    "    popup=\"<a href=https://www.airbnb.com/rooms/31689214>Newly renovated. Newly renovated. Wanda, airport</a>\",\n",
    "    icon=number_DivIcon(col_hex[num], num + 8),\n",
    "    tooltip=\"rating=4,84\",\n",
    ").add_to(m)"
   ]
  },
  {
   "cell_type": "code",
   "execution_count": 19,
   "id": "2b1c77d4-7610-4027-9aa0-663c08ebab09",
   "metadata": {},
   "outputs": [
    {
     "data": {
      "text/plain": [
       "<folium.map.Marker at 0x22461a29b20>"
      ]
     },
     "execution_count": 19,
     "metadata": {},
     "output_type": "execute_result"
    }
   ],
   "source": [
    "folium.Marker(\n",
    "    location=[40.41697, -3.70732],\n",
    "    popup=\"<a href=https://www.airbnb.com/rooms/709208>Apartment in the heart of Madrid</a>\",\n",
    "    icon=folium.Icon(color=\"white\", icon_color=\"white\"),\n",
    "    markerColor=col_hex[num],\n",
    "    tooltip=\"rating=4,83\",\n",
    ").add_to(m)\n",
    "folium.Marker(\n",
    "    location=[40.41697, -3.70732],\n",
    "    popup=\"<a href=https://www.airbnb.com/rooms/709208>Apartment in the heart of Madrid</a>\",\n",
    "    icon=number_DivIcon(col_hex[num], num + 9),\n",
    "    tooltip=\"rating=4,83\",\n",
    ").add_to(m)"
   ]
  },
  {
   "cell_type": "code",
   "execution_count": 20,
   "id": "c356b16f-d3b2-47b6-b4f9-852229040f66",
   "metadata": {},
   "outputs": [
    {
     "data": {
      "text/plain": [
       "<folium.map.Marker at 0x22461a5faf0>"
      ]
     },
     "execution_count": 20,
     "metadata": {},
     "output_type": "execute_result"
    }
   ],
   "source": [
    "folium.Marker(\n",
    "    location=[40.41559, -3.70314],\n",
    "    popup=\"<a href=https://www.airbnb.com/rooms/2963086>Stunning Apartment in Sol</a>\",\n",
    "    icon=folium.Icon(color=\"white\", icon_color=\"white\"),\n",
    "    markerColor=col_hex[num],\n",
    "    tooltip=\"rating=4,83\",\n",
    ").add_to(m)\n",
    "folium.Marker(\n",
    "    location=[40.41559, -3.70314],\n",
    "    popup=\"<a href=https://www.airbnb.com/rooms/2963086>Stunning Apartment in Sol</a>\",\n",
    "    icon=number_DivIcon(col_hex[num], num + 10),\n",
    "    tooltip=\"rating=4,83\",\n",
    ").add_to(m)"
   ]
  },
  {
   "cell_type": "code",
   "execution_count": 21,
   "id": "92855108-d1d2-4cf3-a7b6-cbcc56d210ba",
   "metadata": {},
   "outputs": [],
   "source": [
    "m.save(outfile=\"top10map.html\")"
   ]
  },
  {
   "cell_type": "code",
   "execution_count": null,
   "id": "40fbb78f-08f6-479a-89ae-b55ef39fe6f4",
   "metadata": {},
   "outputs": [],
   "source": []
  }
 ],
 "metadata": {
  "kernelspec": {
   "display_name": "Python [conda env:root] *",
   "language": "python",
   "name": "conda-root-py"
  },
  "language_info": {
   "codemirror_mode": {
    "name": "ipython",
    "version": 3
   },
   "file_extension": ".py",
   "mimetype": "text/x-python",
   "name": "python",
   "nbconvert_exporter": "python",
   "pygments_lexer": "ipython3",
   "version": "3.9.7"
  }
 },
 "nbformat": 4,
 "nbformat_minor": 5
}
